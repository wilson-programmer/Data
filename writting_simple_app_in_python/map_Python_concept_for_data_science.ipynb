{
 "cells": [
  {
   "cell_type": "code",
   "execution_count": 8,
   "id": "62785a93",
   "metadata": {},
   "outputs": [],
   "source": [
    "# map function that add 2 to each number of a list\n",
    "from math import sqrt\n",
    "number = [9,2,20,14,7,8,34,91,43]\n",
    "even_num = map(lambda x: x+2, number)\n",
    "even_num = list(even_num)"
   ]
  },
  {
   "cell_type": "code",
   "execution_count": 9,
   "id": "05c8cef8",
   "metadata": {},
   "outputs": [
    {
     "data": {
      "text/plain": [
       "[11, 4, 22, 16, 9, 10, 36, 93, 45]"
      ]
     },
     "execution_count": 9,
     "metadata": {},
     "output_type": "execute_result"
    }
   ],
   "source": [
    "even_num"
   ]
  },
  {
   "cell_type": "code",
   "execution_count": null,
   "id": "06f5c63d",
   "metadata": {},
   "outputs": [],
   "source": []
  }
 ],
 "metadata": {
  "kernelspec": {
   "display_name": "Python 3",
   "language": "python",
   "name": "python3"
  },
  "language_info": {
   "codemirror_mode": {
    "name": "ipython",
    "version": 3
   },
   "file_extension": ".py",
   "mimetype": "text/x-python",
   "name": "python",
   "nbconvert_exporter": "python",
   "pygments_lexer": "ipython3",
   "version": "3.8.8"
  }
 },
 "nbformat": 4,
 "nbformat_minor": 5
}
