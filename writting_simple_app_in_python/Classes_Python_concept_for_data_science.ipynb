{
 "cells": [
  {
   "cell_type": "markdown",
   "id": "4bd6ab96",
   "metadata": {},
   "source": [
    "# Class that contains student information"
   ]
  },
  {
   "cell_type": "code",
   "execution_count": 12,
   "id": "ed9e8acb",
   "metadata": {},
   "outputs": [],
   "source": [
    "class student_info:\n",
    "    \"\"\"\n",
    "    This class contains necessary informations about a student\n",
    "    \"\"\"\n",
    "    \n",
    "    student_id = \"\"\n",
    "    firstname = \"\"\n",
    "    lastname = \"\"\n",
    "    grade = \"\"\n",
    "    school = \"\"\n",
    "    faculty =\"\"\n",
    "    \n",
    "    # constructor\n",
    "    def __init__(self,s_id,fn,ln,grade, sh, fa):\n",
    "        \n",
    "        self.student_id = s_id\n",
    "        self.firstname = fn\n",
    "        self.lastname = ln\n",
    "        self.grade = grade\n",
    "        self.school = sh\n",
    "        self.faculty = fa\n",
    "        \n",
    "        \n",
    "    # methods to access informations about a student (getters)\n",
    "        \n",
    "    def get_student_id(self):\n",
    "        return self.student_id\n",
    "    \n",
    "    def get_firstname(self):\n",
    "        return self.firstname\n",
    "    \n",
    "    def get_lastname(self):\n",
    "        return self.lastname\n",
    "\n",
    "    \n",
    "    def get_grade(self):\n",
    "        return self.grade\n",
    "    \n",
    "    def get_school(self):\n",
    "        return self.school\n",
    "    \n",
    "    def get_faculty(self):\n",
    "        return self.faculty\n",
    "    \n",
    "    # Method to modify student information (setter)\n",
    "    \n",
    "    def set_student_id(self,st_id):\n",
    "        self.student_id = st_id\n",
    "        \n",
    "    def set_firstname(self,firstN):\n",
    "        self.firstname = firstN\n",
    "        \n",
    "    def set_lastname(self,lastN):\n",
    "        self.lastname = lastN\n",
    "        \n",
    "        \n",
    "    def set_grade(self,grad):\n",
    "        self.grade = grad\n",
    "        \n",
    "    def set_school(self,sch):\n",
    "        self.school = sch\n",
    "        \n",
    "    def set_faculty(self,fac):\n",
    "        self.faculty = fac"
   ]
  },
  {
   "cell_type": "code",
   "execution_count": 26,
   "id": "9d89b3da",
   "metadata": {},
   "outputs": [],
   "source": [
    "stud1 = student_info(\"DI2122S82\",\"Adama\", \"wilson\", 5, \"dataInsight\",\"computer science\")\n",
    "stud2 = student_info(\"DI2122S04\", \"Traore\", \"Lucas\", 2, \"DataInsight\", \"Mathematics\")"
   ]
  },
  {
   "cell_type": "code",
   "execution_count": 27,
   "id": "39e76da1",
   "metadata": {},
   "outputs": [
    {
     "data": {
      "text/plain": [
       "('DI2122S82', 'dataInsight', 'computer science', 'Adama', 'wilson')"
      ]
     },
     "execution_count": 27,
     "metadata": {},
     "output_type": "execute_result"
    }
   ],
   "source": [
    "stud1.get_student_id(), stud.get_school(), stud.get_faculty(), stud.get_firstname(), stud.get_lastname()"
   ]
  },
  {
   "cell_type": "code",
   "execution_count": 28,
   "id": "0633200b",
   "metadata": {},
   "outputs": [],
   "source": [
    "stud1.set_student_id(\"DI212265\")"
   ]
  },
  {
   "cell_type": "code",
   "execution_count": 29,
   "id": "402f0435",
   "metadata": {},
   "outputs": [
    {
     "data": {
      "text/plain": [
       "'DI212265'"
      ]
     },
     "execution_count": 29,
     "metadata": {},
     "output_type": "execute_result"
    }
   ],
   "source": [
    "stud1.get_student_id()"
   ]
  },
  {
   "cell_type": "code",
   "execution_count": null,
   "id": "26b85fcd",
   "metadata": {},
   "outputs": [],
   "source": []
  }
 ],
 "metadata": {
  "kernelspec": {
   "display_name": "Python 3",
   "language": "python",
   "name": "python3"
  },
  "language_info": {
   "codemirror_mode": {
    "name": "ipython",
    "version": 3
   },
   "file_extension": ".py",
   "mimetype": "text/x-python",
   "name": "python",
   "nbconvert_exporter": "python",
   "pygments_lexer": "ipython3",
   "version": "3.8.8"
  }
 },
 "nbformat": 4,
 "nbformat_minor": 5
}
