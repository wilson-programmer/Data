{
 "cells": [
  {
   "cell_type": "code",
   "execution_count": 174,
   "id": "a9245459",
   "metadata": {},
   "outputs": [],
   "source": [
    "import string\n",
    "import random\n",
    "\n",
    "def pass_gen(firstname):\n",
    "    \n",
    "    \"\"\" Generate random password from a first name\n",
    "    \n",
    "    Args:\n",
    "    firstname (str) : The first name to generate password\n",
    "    \n",
    "    \n",
    "    Returns:\n",
    "    str: generated password\n",
    "    \n",
    "    \"\"\"  \n",
    "    \n",
    "    symbols = list(string.ascii_letters + string.digits+\"<!?/$*%-(_)#@&+=\")\n",
    "    \n",
    "    l = len(firstname)                            # length of the first name\n",
    "      \n",
    "    # if the length is smaller than 8 we round it to 8 caracters\n",
    "    diff = 8-l                                  \n",
    "    symbol_complete =\"\"\n",
    "    for i in range(diff):\n",
    "        symbol_complete = symbol_complete + random.choice(symbols)\n",
    "    \n",
    "    a = lambda x : x+symbol_complete if(l<8) else x\n",
    "    firstname = a(firstname)\n",
    "    \n",
    "    \n",
    "    #let mix up the caracters of first name\n",
    "    firstname = list(firstname) # convert the firstname in to list to shuffle it\n",
    "    final_len = len(firstname)\n",
    "    firstname_mix = random.sample(firstname, len(firstname))\n",
    "    firstname_generate = \"\"\n",
    "    for i in range(final_len):\n",
    "        m = (i+1)%8\n",
    "        firstname_generate = firstname_generate + symbols[m] + firstname_mix[i] + random.choice(symbols)\n",
    "    firstname_generate = ''.join(random.sample(firstname_generate, len(firstname_generate)))\n",
    "        \n",
    "    return firstname_generate\n",
    "    \n",
    "        "
   ]
  },
  {
   "cell_type": "code",
   "execution_count": 177,
   "id": "2528f448",
   "metadata": {},
   "outputs": [
    {
     "data": {
      "text/plain": [
       "'fDcgTvhvw/ted<hdngaiscaaIqibba!tX'"
      ]
     },
     "execution_count": 177,
     "metadata": {},
     "output_type": "execute_result"
    }
   ],
   "source": [
    "pass_gen(\"DataInsight\")"
   ]
  },
  {
   "cell_type": "code",
   "execution_count": 4,
   "id": "7a2b250d",
   "metadata": {},
   "outputs": [],
   "source": []
  }
 ],
 "metadata": {
  "kernelspec": {
   "display_name": "Python 3",
   "language": "python",
   "name": "python3"
  },
  "language_info": {
   "codemirror_mode": {
    "name": "ipython",
    "version": 3
   },
   "file_extension": ".py",
   "mimetype": "text/x-python",
   "name": "python",
   "nbconvert_exporter": "python",
   "pygments_lexer": "ipython3",
   "version": "3.8.8"
  }
 },
 "nbformat": 4,
 "nbformat_minor": 5
}
