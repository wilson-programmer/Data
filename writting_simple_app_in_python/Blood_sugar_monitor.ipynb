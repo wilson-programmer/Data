{
 "cells": [
  {
   "cell_type": "markdown",
   "id": "19858969",
   "metadata": {},
   "source": [
    "# Blood sugar monitor App"
   ]
  },
  {
   "cell_type": "code",
   "execution_count": 25,
   "id": "2f0eee98",
   "metadata": {},
   "outputs": [],
   "source": [
    "def blood_sugar():\n",
    "    \"\"\"\n",
    "    Blood sugar monitor\n",
    "    \n",
    "     Args:\n",
    "     \n",
    "     \n",
    "     Returns:\n",
    "    str: Health status based on blood sugar\n",
    "    \n",
    "    \n",
    "    \"\"\"\n",
    "\n",
    "    blood_s = float(input(\"Enter your blood sugar : \"))\n",
    "    threshold = 0.7\n",
    "    if(blood_s<threshold):\n",
    "        print(\"Your are in Hypoglycemia\")\n",
    "    elif(threshold<=blood_s and blood_s<=1):\n",
    "        print(\"Your blood sugar level is right\")\n",
    "    elif(blood_s>=1 and blood_s<=1.25):\n",
    "        print(\"Moderate Hyperglycemia\")\n",
    "    else:\n",
    "        print(\"Diabetes\")\n",
    "    "
   ]
  },
  {
   "cell_type": "code",
   "execution_count": 26,
   "id": "f457ce29",
   "metadata": {},
   "outputs": [
    {
     "name": "stdout",
     "output_type": "stream",
     "text": [
      "Enter your blood sugar : 0.8\n",
      "Your blood sugar level is right\n"
     ]
    }
   ],
   "source": [
    "blood_sugar()"
   ]
  },
  {
   "cell_type": "code",
   "execution_count": null,
   "id": "709eafe0",
   "metadata": {},
   "outputs": [],
   "source": []
  }
 ],
 "metadata": {
  "kernelspec": {
   "display_name": "Python 3",
   "language": "python",
   "name": "python3"
  },
  "language_info": {
   "codemirror_mode": {
    "name": "ipython",
    "version": 3
   },
   "file_extension": ".py",
   "mimetype": "text/x-python",
   "name": "python",
   "nbconvert_exporter": "python",
   "pygments_lexer": "ipython3",
   "version": "3.8.8"
  }
 },
 "nbformat": 4,
 "nbformat_minor": 5
}
