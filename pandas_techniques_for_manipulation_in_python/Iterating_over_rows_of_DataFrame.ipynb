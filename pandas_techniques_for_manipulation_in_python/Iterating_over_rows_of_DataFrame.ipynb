{
 "cells": [
  {
   "cell_type": "markdown",
   "id": "20baa920",
   "metadata": {},
   "source": [
    "# Here we will Discuss about iterating over rows of DataFrame"
   ]
  },
  {
   "cell_type": "code",
   "execution_count": 22,
   "id": "662e0b8a",
   "metadata": {},
   "outputs": [],
   "source": [
    "#import Modules\n",
    "import pandas as pd"
   ]
  },
  {
   "cell_type": "code",
   "execution_count": 23,
   "id": "4c7056ff",
   "metadata": {},
   "outputs": [],
   "source": [
    "#Load Dataset\n",
    "df = pd.read_csv('Os.csv')"
   ]
  },
  {
   "cell_type": "code",
   "execution_count": 6,
   "id": "18118aa3",
   "metadata": {},
   "outputs": [
    {
     "data": {
      "text/html": [
       "<div>\n",
       "<style scoped>\n",
       "    .dataframe tbody tr th:only-of-type {\n",
       "        vertical-align: middle;\n",
       "    }\n",
       "\n",
       "    .dataframe tbody tr th {\n",
       "        vertical-align: top;\n",
       "    }\n",
       "\n",
       "    .dataframe thead th {\n",
       "        text-align: right;\n",
       "    }\n",
       "</style>\n",
       "<table border=\"1\" class=\"dataframe\">\n",
       "  <thead>\n",
       "    <tr style=\"text-align: right;\">\n",
       "      <th></th>\n",
       "      <th>OSName</th>\n",
       "      <th>PercApr22</th>\n",
       "      <th>ChangeApr22</th>\n",
       "      <th>Type</th>\n",
       "    </tr>\n",
       "  </thead>\n",
       "  <tbody>\n",
       "    <tr>\n",
       "      <th>10</th>\n",
       "      <td>MacOS 12.1.0 64 bit</td>\n",
       "      <td>0.16</td>\n",
       "      <td>-0.06</td>\n",
       "      <td>OSX</td>\n",
       "    </tr>\n",
       "    <tr>\n",
       "      <th>3</th>\n",
       "      <td>Windows 8.1 64 bit</td>\n",
       "      <td>0.57</td>\n",
       "      <td>0.00</td>\n",
       "      <td>Windows</td>\n",
       "    </tr>\n",
       "    <tr>\n",
       "      <th>7</th>\n",
       "      <td>MacOS 12.2.1 64 bit</td>\n",
       "      <td>0.44</td>\n",
       "      <td>-0.28</td>\n",
       "      <td>OSX</td>\n",
       "    </tr>\n",
       "    <tr>\n",
       "      <th>23</th>\n",
       "      <td>Ubuntu 21.10 64 bit</td>\n",
       "      <td>0.06</td>\n",
       "      <td>-0.01</td>\n",
       "      <td>Linux</td>\n",
       "    </tr>\n",
       "    <tr>\n",
       "      <th>4</th>\n",
       "      <td>Windows 7</td>\n",
       "      <td>0.17</td>\n",
       "      <td>0.01</td>\n",
       "      <td>Windows</td>\n",
       "    </tr>\n",
       "    <tr>\n",
       "      <th>20</th>\n",
       "      <td>Arch Linux 64 bit</td>\n",
       "      <td>0.14</td>\n",
       "      <td>0.02</td>\n",
       "      <td>Linux</td>\n",
       "    </tr>\n",
       "    <tr>\n",
       "      <th>1</th>\n",
       "      <td>Windows 11 64 bit</td>\n",
       "      <td>18.94</td>\n",
       "      <td>2.10</td>\n",
       "      <td>Windows</td>\n",
       "    </tr>\n",
       "  </tbody>\n",
       "</table>\n",
       "</div>"
      ],
      "text/plain": [
       "                 OSName  PercApr22  ChangeApr22    Type \n",
       "10  MacOS 12.1.0 64 bit       0.16        -0.06      OSX\n",
       "3    Windows 8.1 64 bit       0.57         0.00  Windows\n",
       "7   MacOS 12.2.1 64 bit       0.44        -0.28      OSX\n",
       "23  Ubuntu 21.10 64 bit       0.06        -0.01    Linux\n",
       "4             Windows 7       0.17         0.01  Windows\n",
       "20    Arch Linux 64 bit       0.14         0.02    Linux\n",
       "1     Windows 11 64 bit      18.94         2.10  Windows"
      ]
     },
     "execution_count": 6,
     "metadata": {},
     "output_type": "execute_result"
    }
   ],
   "source": [
    "df.sample(7)"
   ]
  },
  {
   "cell_type": "code",
   "execution_count": 4,
   "id": "e65f3958",
   "metadata": {},
   "outputs": [
    {
     "name": "stdout",
     "output_type": "stream",
     "text": [
      "<class 'pandas.core.frame.DataFrame'>\n",
      "RangeIndex: 24 entries, 0 to 23\n",
      "Data columns (total 4 columns):\n",
      " #   Column       Non-Null Count  Dtype  \n",
      "---  ------       --------------  -----  \n",
      " 0   OSName       24 non-null     object \n",
      " 1   PercApr22    24 non-null     float64\n",
      " 2   ChangeApr22  24 non-null     float64\n",
      " 3   Type         24 non-null     object \n",
      "dtypes: float64(2), object(2)\n",
      "memory usage: 896.0+ bytes\n"
     ]
    }
   ],
   "source": [
    "df.info()"
   ]
  },
  {
   "cell_type": "code",
   "execution_count": 15,
   "id": "deb31e3b",
   "metadata": {},
   "outputs": [
    {
     "name": "stdout",
     "output_type": "stream",
     "text": [
      "0 Windows 10 64 bit Windows\n",
      "1 Windows 11 64 bit Windows\n",
      "2 Windows 7 64 bit Windows\n",
      "3 Windows 8.1 64 bit Windows\n",
      "4 Windows 7 Windows\n",
      "5 Windows 10 Windows\n",
      "6 MacOS 12.3.1 64 bit OSX\n",
      "7 MacOS 12.2.1 64 bit OSX\n",
      "8 MacOS 10.15.7 64 bit OSX\n",
      "9 MacOS 12.3.0 64 bit OSX\n",
      "10 MacOS 12.1.0 64 bit OSX\n",
      "11 MacOS 12.0.1 64 bit OSX\n",
      "12 MacOS 10.13.6 64 bit OSX\n",
      "13 MacOS 10.14.6 64 bit OSX\n",
      "14 MacOS 11.6.0 64 bit OSX\n",
      "15 MacOS 11.6.4 64 bit OSX\n",
      "16 MacOS 11.5.2 64 bit OSX\n",
      "17 MacOS 11.6.5 64 bit OSX\n",
      "18 MacOS 11.4.0 64 bit OSX\n",
      "19 Ubuntu 20.04.4 LTS 64 bit Linux\n",
      "20 Arch Linux 64 bit Linux\n",
      "21 Manjaro Linux 64 bit Linux\n",
      "22 Linux Mint 20.3 64 bit Linux\n",
      "23 Ubuntu 21.10 64 bit Linux\n"
     ]
    }
   ],
   "source": [
    "#Iterating over each rows using iterrows\n",
    "for index, row in df.iterrows():\n",
    "    print(index, row['OSName'], row['Type '])"
   ]
  },
  {
   "cell_type": "code",
   "execution_count": 17,
   "id": "c5135aac",
   "metadata": {},
   "outputs": [
    {
     "name": "stdout",
     "output_type": "stream",
     "text": [
      "Pandas(Index=0, OSName='Windows 10 64 bit', PercApr22=73.55, ChangeApr22=-1.14, _4='Windows')\n",
      "Pandas(Index=1, OSName='Windows 11 64 bit', PercApr22=18.94, ChangeApr22=2.1, _4='Windows')\n",
      "Pandas(Index=2, OSName='Windows 7 64 bit', PercApr22=2.93, ChangeApr22=-1.21, _4='Windows')\n",
      "Pandas(Index=3, OSName='Windows 8.1 64 bit', PercApr22=0.57, ChangeApr22=0.0, _4='Windows')\n",
      "Pandas(Index=4, OSName='Windows 7', PercApr22=0.17, ChangeApr22=0.01, _4='Windows')\n",
      "Pandas(Index=5, OSName='Windows 10', PercApr22=0.07, ChangeApr22=0.0, _4='Windows')\n",
      "Pandas(Index=6, OSName='MacOS 12.3.1 64 bit', PercApr22=0.46, ChangeApr22=0.46, _4='OSX')\n",
      "Pandas(Index=7, OSName='MacOS 12.2.1 64 bit', PercApr22=0.44, ChangeApr22=-0.28, _4='OSX')\n",
      "Pandas(Index=8, OSName='MacOS 10.15.7 64 bit', PercApr22=0.22, ChangeApr22=0.0, _4='OSX')\n",
      "Pandas(Index=9, OSName='MacOS 12.3.0 64 bit', PercApr22=0.21, ChangeApr22=0.08, _4='OSX')\n",
      "Pandas(Index=10, OSName='MacOS 12.1.0 64 bit', PercApr22=0.16, ChangeApr22=-0.06, _4='OSX')\n",
      "Pandas(Index=11, OSName='MacOS 12.0.1 64 bit', PercApr22=0.14, ChangeApr22=-0.02, _4='OSX')\n",
      "Pandas(Index=12, OSName='MacOS 10.13.6 64 bit', PercApr22=0.12, ChangeApr22=0.0, _4='OSX')\n",
      "Pandas(Index=13, OSName='MacOS 10.14.6 64 bit', PercApr22=0.11, ChangeApr22=0.0, _4='OSX')\n",
      "Pandas(Index=14, OSName='MacOS 11.6.0 64 bit', PercApr22=0.1, ChangeApr22=-0.03, _4='OSX')\n",
      "Pandas(Index=15, OSName='MacOS 11.6.4 64 bit', PercApr22=0.06, ChangeApr22=-0.01, _4='OSX')\n",
      "Pandas(Index=16, OSName='MacOS 11.5.2 64 bit', PercApr22=0.06, ChangeApr22=-0.01, _4='OSX')\n",
      "Pandas(Index=17, OSName='MacOS 11.6.5 64 bit', PercApr22=0.05, ChangeApr22=0.05, _4='OSX')\n",
      "Pandas(Index=18, OSName='MacOS 11.4.0 64 bit', PercApr22=0.05, ChangeApr22=-0.01, _4='OSX')\n",
      "Pandas(Index=19, OSName='Ubuntu 20.04.4 LTS 64 bit', PercApr22=0.16, ChangeApr22=0.03, _4='Linux')\n",
      "Pandas(Index=20, OSName='Arch Linux 64 bit', PercApr22=0.14, ChangeApr22=0.02, _4='Linux')\n",
      "Pandas(Index=21, OSName='Manjaro Linux 64 bit', PercApr22=0.13, ChangeApr22=0.01, _4='Linux')\n",
      "Pandas(Index=22, OSName='Linux Mint 20.3 64 bit', PercApr22=0.07, ChangeApr22=0.0, _4='Linux')\n",
      "Pandas(Index=23, OSName='Ubuntu 21.10 64 bit', PercApr22=0.06, ChangeApr22=-0.01, _4='Linux')\n"
     ]
    }
   ],
   "source": [
    "#Iterating over rows using itertuples\n",
    "for row in df.itertuples():\n",
    "    print(row)"
   ]
  },
  {
   "cell_type": "code",
   "execution_count": 19,
   "id": "a844cddf",
   "metadata": {},
   "outputs": [
    {
     "name": "stdout",
     "output_type": "stream",
     "text": [
      "Pandas(OSName='Windows 10 64 bit', PercApr22=73.55, ChangeApr22=-1.14, _3='Windows')\n",
      "Pandas(OSName='Windows 11 64 bit', PercApr22=18.94, ChangeApr22=2.1, _3='Windows')\n",
      "Pandas(OSName='Windows 7 64 bit', PercApr22=2.93, ChangeApr22=-1.21, _3='Windows')\n",
      "Pandas(OSName='Windows 8.1 64 bit', PercApr22=0.57, ChangeApr22=0.0, _3='Windows')\n",
      "Pandas(OSName='Windows 7', PercApr22=0.17, ChangeApr22=0.01, _3='Windows')\n",
      "Pandas(OSName='Windows 10', PercApr22=0.07, ChangeApr22=0.0, _3='Windows')\n",
      "Pandas(OSName='MacOS 12.3.1 64 bit', PercApr22=0.46, ChangeApr22=0.46, _3='OSX')\n",
      "Pandas(OSName='MacOS 12.2.1 64 bit', PercApr22=0.44, ChangeApr22=-0.28, _3='OSX')\n",
      "Pandas(OSName='MacOS 10.15.7 64 bit', PercApr22=0.22, ChangeApr22=0.0, _3='OSX')\n",
      "Pandas(OSName='MacOS 12.3.0 64 bit', PercApr22=0.21, ChangeApr22=0.08, _3='OSX')\n",
      "Pandas(OSName='MacOS 12.1.0 64 bit', PercApr22=0.16, ChangeApr22=-0.06, _3='OSX')\n",
      "Pandas(OSName='MacOS 12.0.1 64 bit', PercApr22=0.14, ChangeApr22=-0.02, _3='OSX')\n",
      "Pandas(OSName='MacOS 10.13.6 64 bit', PercApr22=0.12, ChangeApr22=0.0, _3='OSX')\n",
      "Pandas(OSName='MacOS 10.14.6 64 bit', PercApr22=0.11, ChangeApr22=0.0, _3='OSX')\n",
      "Pandas(OSName='MacOS 11.6.0 64 bit', PercApr22=0.1, ChangeApr22=-0.03, _3='OSX')\n",
      "Pandas(OSName='MacOS 11.6.4 64 bit', PercApr22=0.06, ChangeApr22=-0.01, _3='OSX')\n",
      "Pandas(OSName='MacOS 11.5.2 64 bit', PercApr22=0.06, ChangeApr22=-0.01, _3='OSX')\n",
      "Pandas(OSName='MacOS 11.6.5 64 bit', PercApr22=0.05, ChangeApr22=0.05, _3='OSX')\n",
      "Pandas(OSName='MacOS 11.4.0 64 bit', PercApr22=0.05, ChangeApr22=-0.01, _3='OSX')\n",
      "Pandas(OSName='Ubuntu 20.04.4 LTS 64 bit', PercApr22=0.16, ChangeApr22=0.03, _3='Linux')\n",
      "Pandas(OSName='Arch Linux 64 bit', PercApr22=0.14, ChangeApr22=0.02, _3='Linux')\n",
      "Pandas(OSName='Manjaro Linux 64 bit', PercApr22=0.13, ChangeApr22=0.01, _3='Linux')\n",
      "Pandas(OSName='Linux Mint 20.3 64 bit', PercApr22=0.07, ChangeApr22=0.0, _3='Linux')\n",
      "Pandas(OSName='Ubuntu 21.10 64 bit', PercApr22=0.06, ChangeApr22=-0.01, _3='Linux')\n"
     ]
    }
   ],
   "source": [
    "#Removing index\n",
    "for row in df.itertuples(index=False):\n",
    "    print(row)"
   ]
  },
  {
   "cell_type": "code",
   "execution_count": 21,
   "id": "c8d84bfc",
   "metadata": {},
   "outputs": [
    {
     "name": "stdout",
     "output_type": "stream",
     "text": [
      "OS(Index=0, OSName='Windows 10 64 bit', PercApr22=73.55, ChangeApr22=-1.14, _4='Windows')\n",
      "OS(Index=1, OSName='Windows 11 64 bit', PercApr22=18.94, ChangeApr22=2.1, _4='Windows')\n",
      "OS(Index=2, OSName='Windows 7 64 bit', PercApr22=2.93, ChangeApr22=-1.21, _4='Windows')\n",
      "OS(Index=3, OSName='Windows 8.1 64 bit', PercApr22=0.57, ChangeApr22=0.0, _4='Windows')\n",
      "OS(Index=4, OSName='Windows 7', PercApr22=0.17, ChangeApr22=0.01, _4='Windows')\n",
      "OS(Index=5, OSName='Windows 10', PercApr22=0.07, ChangeApr22=0.0, _4='Windows')\n",
      "OS(Index=6, OSName='MacOS 12.3.1 64 bit', PercApr22=0.46, ChangeApr22=0.46, _4='OSX')\n",
      "OS(Index=7, OSName='MacOS 12.2.1 64 bit', PercApr22=0.44, ChangeApr22=-0.28, _4='OSX')\n",
      "OS(Index=8, OSName='MacOS 10.15.7 64 bit', PercApr22=0.22, ChangeApr22=0.0, _4='OSX')\n",
      "OS(Index=9, OSName='MacOS 12.3.0 64 bit', PercApr22=0.21, ChangeApr22=0.08, _4='OSX')\n",
      "OS(Index=10, OSName='MacOS 12.1.0 64 bit', PercApr22=0.16, ChangeApr22=-0.06, _4='OSX')\n",
      "OS(Index=11, OSName='MacOS 12.0.1 64 bit', PercApr22=0.14, ChangeApr22=-0.02, _4='OSX')\n",
      "OS(Index=12, OSName='MacOS 10.13.6 64 bit', PercApr22=0.12, ChangeApr22=0.0, _4='OSX')\n",
      "OS(Index=13, OSName='MacOS 10.14.6 64 bit', PercApr22=0.11, ChangeApr22=0.0, _4='OSX')\n",
      "OS(Index=14, OSName='MacOS 11.6.0 64 bit', PercApr22=0.1, ChangeApr22=-0.03, _4='OSX')\n",
      "OS(Index=15, OSName='MacOS 11.6.4 64 bit', PercApr22=0.06, ChangeApr22=-0.01, _4='OSX')\n",
      "OS(Index=16, OSName='MacOS 11.5.2 64 bit', PercApr22=0.06, ChangeApr22=-0.01, _4='OSX')\n",
      "OS(Index=17, OSName='MacOS 11.6.5 64 bit', PercApr22=0.05, ChangeApr22=0.05, _4='OSX')\n",
      "OS(Index=18, OSName='MacOS 11.4.0 64 bit', PercApr22=0.05, ChangeApr22=-0.01, _4='OSX')\n",
      "OS(Index=19, OSName='Ubuntu 20.04.4 LTS 64 bit', PercApr22=0.16, ChangeApr22=0.03, _4='Linux')\n",
      "OS(Index=20, OSName='Arch Linux 64 bit', PercApr22=0.14, ChangeApr22=0.02, _4='Linux')\n",
      "OS(Index=21, OSName='Manjaro Linux 64 bit', PercApr22=0.13, ChangeApr22=0.01, _4='Linux')\n",
      "OS(Index=22, OSName='Linux Mint 20.3 64 bit', PercApr22=0.07, ChangeApr22=0.0, _4='Linux')\n",
      "OS(Index=23, OSName='Ubuntu 21.10 64 bit', PercApr22=0.06, ChangeApr22=-0.01, _4='Linux')\n"
     ]
    }
   ],
   "source": [
    "#With the name parameter set we set a custom name for the yielded namedtuples\n",
    "for row in df.itertuples(name='OS'):\n",
    "    print(row)"
   ]
  },
  {
   "cell_type": "code",
   "execution_count": 20,
   "id": "f892ac03",
   "metadata": {},
   "outputs": [
    {
     "name": "stdout",
     "output_type": "stream",
     "text": [
      "Windows 10 64 bit Windows\n",
      "Windows 11 64 bit Windows\n",
      "Windows 7 64 bit Windows\n",
      "Windows 8.1 64 bit Windows\n",
      "Windows 7 Windows\n",
      "Windows 10 Windows\n",
      "MacOS 12.3.1 64 bit OSX\n",
      "MacOS 12.2.1 64 bit OSX\n",
      "MacOS 10.15.7 64 bit OSX\n",
      "MacOS 12.3.0 64 bit OSX\n",
      "MacOS 12.1.0 64 bit OSX\n",
      "MacOS 12.0.1 64 bit OSX\n",
      "MacOS 10.13.6 64 bit OSX\n",
      "MacOS 10.14.6 64 bit OSX\n",
      "MacOS 11.6.0 64 bit OSX\n",
      "MacOS 11.6.4 64 bit OSX\n",
      "MacOS 11.5.2 64 bit OSX\n",
      "MacOS 11.6.5 64 bit OSX\n",
      "MacOS 11.4.0 64 bit OSX\n",
      "Ubuntu 20.04.4 LTS 64 bit Linux\n",
      "Arch Linux 64 bit Linux\n",
      "Manjaro Linux 64 bit Linux\n",
      "Linux Mint 20.3 64 bit Linux\n",
      "Ubuntu 21.10 64 bit Linux\n"
     ]
    }
   ],
   "source": [
    "#Iterating over rows using iloc\n",
    "for i in range(len(df)):\n",
    "    print(df.iloc[i,0], df.iloc[i,3])"
   ]
  },
  {
   "cell_type": "code",
   "execution_count": null,
   "id": "f8f53896",
   "metadata": {},
   "outputs": [],
   "source": []
  }
 ],
 "metadata": {
  "kernelspec": {
   "display_name": "Python 3",
   "language": "python",
   "name": "python3"
  },
  "language_info": {
   "codemirror_mode": {
    "name": "ipython",
    "version": 3
   },
   "file_extension": ".py",
   "mimetype": "text/x-python",
   "name": "python",
   "nbconvert_exporter": "python",
   "pygments_lexer": "ipython3",
   "version": "3.8.8"
  }
 },
 "nbformat": 4,
 "nbformat_minor": 5
}
